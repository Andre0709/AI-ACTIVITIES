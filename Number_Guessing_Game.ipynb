{
  "nbformat": 4,
  "nbformat_minor": 0,
  "metadata": {
    "colab": {
      "provenance": []
    },
    "kernelspec": {
      "name": "python3",
      "display_name": "Python 3"
    },
    "language_info": {
      "name": "python"
    }
  },
  "cells": [
    {
      "cell_type": "code",
      "source": [
        "import random\n",
        "\n",
        "number = random.randint(1, 100)\n",
        "guess = -1\n",
        "\n",
        "while guess != number:\n",
        "  guess = int(input(\"Enter your guess: \"))\n",
        "  if guess < number:\n",
        "    print(\"Too low!\")\n",
        "  elif guess > number:\n",
        "    print(\"Too high!\")\n",
        "\n",
        "print(f\"Congratulations! You guessed the number {number} correctly!\")"
      ],
      "metadata": {
        "colab": {
          "base_uri": "https://localhost:8080/"
        },
        "id": "VbcXk456WlHl",
        "outputId": "d5d201b9-faa3-4a56-b36f-69cb86452605"
      },
      "execution_count": 2,
      "outputs": [
        {
          "output_type": "stream",
          "name": "stdout",
          "text": [
            "Enter your guess: 100\n",
            "Too high!\n",
            "Enter your guess: 50\n",
            "Too low!\n",
            "Enter your guess: 63\n",
            "Too low!\n",
            "Enter your guess: 80\n",
            "Too low!\n",
            "Enter your guess: 90\n",
            "Too high!\n",
            "Enter your guess: 85\n",
            "Too low!\n",
            "Enter your guess: 88\n",
            "Too low!\n",
            "Enter your guess: 89\n",
            "Congratulations! You guessed the number 89 correctly!\n"
          ]
        }
      ]
    }
  ]
}