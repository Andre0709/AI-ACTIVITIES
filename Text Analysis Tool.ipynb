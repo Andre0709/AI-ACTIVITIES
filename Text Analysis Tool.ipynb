{
  "nbformat": 4,
  "nbformat_minor": 0,
  "metadata": {
    "colab": {
      "provenance": []
    },
    "kernelspec": {
      "name": "python3",
      "display_name": "Python 3"
    },
    "language_info": {
      "name": "python"
    }
  },
  "cells": [
    {
      "cell_type": "code",
      "execution_count": 2,
      "metadata": {
        "colab": {
          "base_uri": "https://localhost:8080/"
        },
        "id": "maFI_zkmQ84x",
        "outputId": "74882abb-78e4-4181-e927-22a4348c925b"
      },
      "outputs": [
        {
          "output_type": "stream",
          "name": "stdout",
          "text": [
            "Number of words: 113\n",
            "Number of sentences: 22\n",
            "Number of paragraphs: 6\n",
            "Average word length: 6.19\n",
            "Most common words and their frequencies:\n",
            "anscombe: 5\n",
            "is: 4\n",
            "https: 4\n",
            "a: 3\n",
            "data: 3\n",
            "the: 3\n",
            "com: 3\n",
            "mnist: 3\n",
            "vega_datasets: 3\n",
            "sample: 2\n"
          ]
        }
      ],
      "source": [
        "import re\n",
        "import numpy as np\n",
        "from collections import Counter\n",
        "\n",
        "def read_file(file_path):\n",
        "    with open(file_path, 'r', encoding='utf-8') as file:\n",
        "        return file.read()\n",
        "\n",
        "def count_sentences(text):\n",
        "    sentences = re.split(r'[.!?]', text)\n",
        "    return len([s for s in sentences if s.strip()])\n",
        "\n",
        "def count_paragraphs(text):\n",
        "    paragraphs = text.split('\\n\\n')\n",
        "    return len([p for p in paragraphs if p.strip()])\n",
        "\n",
        "def count_words_with_numpy(text):\n",
        "    return np.char.count(text, ' ') + 1\n",
        "\n",
        "def word_frequencies(words):\n",
        "    dictionary = {}\n",
        "    for word in words:\n",
        "        word = word.strip(string.punctuation).lower()\n",
        "        if word:\n",
        "            dictionary[word] = dictionary.get(word, 0) + 1\n",
        "    return dictionary\n",
        "\n",
        "def text_analysis(file_path):\n",
        "    stats = {\n",
        "        'amount': 0,\n",
        "        'length': 0,\n",
        "        'word_count': {},\n",
        "        'initial_count': {},\n",
        "        'sentence_count': 0,\n",
        "        'paragraph_count': 0\n",
        "    }\n",
        "\n",
        "    text = read_file(file_path)\n",
        "\n",
        "    # Count sentences and paragraphs\n",
        "    stats['sentence_count'] = count_sentences(text)\n",
        "    stats['paragraph_count'] = count_paragraphs(text)\n",
        "\n",
        "    # Count words using numpy\n",
        "    stats['amount'] = int(count_words_with_numpy(text))\n",
        "\n",
        "    # Process each line for word statistics\n",
        "    words = re.findall(r'\\b\\w+\\b', text)\n",
        "    stats['length'] = sum(len(word) for word in words)\n",
        "\n",
        "    # Count word frequencies\n",
        "    stats['word_count'] = word_frequencies(words)\n",
        "\n",
        "    # Count initial letters\n",
        "    for word in words:\n",
        "        initial = word[0].lower()\n",
        "        stats['initial_count'][initial] = stats['initial_count'].get(initial, 0) + 1\n",
        "\n",
        "    # Calculate average word length\n",
        "    stats['average_length'] = stats['length'] / stats['amount'] if stats['amount'] else 0\n",
        "\n",
        "    # Identify the most common words\n",
        "    common_words = Counter(stats['word_count']).most_common(10)\n",
        "\n",
        "    # Print the analysis\n",
        "    print(f\"Number of words: {stats['amount']}\")\n",
        "    print(f\"Number of sentences: {stats['sentence_count']}\")\n",
        "    print(f\"Number of paragraphs: {stats['paragraph_count']}\")\n",
        "    print(f\"Average word length: {stats['average_length']:.2f}\")\n",
        "    print(\"Most common words and their frequencies:\")\n",
        "    for word, freq in common_words:\n",
        "        print(f\"{word}: {freq}\")\n",
        "\n",
        "# Example usage\n",
        "file_path = '/content/sample_data/README.md'\n",
        "text_analysis(file_path)\n",
        "\n"
      ]
    }
  ]
}